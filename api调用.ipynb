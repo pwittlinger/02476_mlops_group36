{
 "cells": [
  {
   "cell_type": "code",
   "execution_count": 14,
   "id": "84e19989-901b-4e81-830f-b56a7517fdd5",
   "metadata": {
    "execution": {
     "iopub.execute_input": "2023-01-19T02:47:58.103490Z",
     "iopub.status.busy": "2023-01-19T02:47:58.102919Z",
     "iopub.status.idle": "2023-01-19T02:47:58.109368Z",
     "shell.execute_reply": "2023-01-19T02:47:58.107855Z",
     "shell.execute_reply.started": "2023-01-19T02:47:58.103438Z"
    },
    "tags": []
   },
   "outputs": [],
   "source": [
    "import requests\n",
    "import json"
   ]
  },
  {
   "cell_type": "code",
   "execution_count": 16,
   "id": "6324e630-0369-4105-878d-4109f3429fce",
   "metadata": {
    "execution": {
     "iopub.execute_input": "2023-01-19T02:48:06.783997Z",
     "iopub.status.busy": "2023-01-19T02:48:06.783388Z",
     "iopub.status.idle": "2023-01-19T02:48:09.158299Z",
     "shell.execute_reply": "2023-01-19T02:48:09.157880Z",
     "shell.execute_reply.started": "2023-01-19T02:48:06.783932Z"
    },
    "tags": []
   },
   "outputs": [],
   "source": [
    "data = requests.post(\n",
    "    'http://127.0.0.1:8000/bert',\n",
    "    data=json.dumps({\n",
    "        'content': '''New York police are concerned drones could become tools for terrorists, and are investigating ways to stop potential attacks. Until now police haven't acknowledged drones as a potential weapon, but the NYPD has now said the technology has advanced enough that someone could use them to carry out an air assault using chemical weapons and firearms. Police want to develop technology which will allow them to take control of drones as well as scan the skies for them before major events. The NYPD says drones carrying explosives are the number one threat as they investigate ways to stop attacks . Deputy Chief Salvatore DiPace, left, was concerned about an incident last year where a drone was landed in front of German Chancellor Angela Merkel and 'could have took the chancellor and her people out' A drone which was flown over a packed football stadium in Manchester, England, just over a week ago, resulting in the suspected pilot being arrested . They are consulting with the military and members of its counterterrorism, bomb squad, emergency services and aviation units are working on a plan to counter weaponized drones. The NYPD hasn't received any intelligence indicating there is an imminent threat, but has become increasingly concerned over the last year. Deputy Chief Salvatore DiPace told CBS News:\\xa0'We've looked at some people that have jury-rigged these drones to carry guns, to carry different types of explosives if they wanted to; there's just so many possibilities that we're very worried about.' Mr Dipace said police had also seen video showing how accurate an attack from a drone could be:\\xa0'We've seen some video where the drone was flying at different targets along the route and very accurately hitting the targets with the paintball.'''\n",
    "    })\n",
    ")"
   ]
  },
  {
   "cell_type": "code",
   "execution_count": 13,
   "id": "d86da1d0-f8ce-48e9-9a89-f511a4d0fca2",
   "metadata": {
    "execution": {
     "iopub.execute_input": "2023-01-19T02:45:46.622009Z",
     "iopub.status.busy": "2023-01-19T02:45:46.621449Z",
     "iopub.status.idle": "2023-01-19T02:45:46.627405Z",
     "shell.execute_reply": "2023-01-19T02:45:46.626677Z",
     "shell.execute_reply.started": "2023-01-19T02:45:46.621960Z"
    }
   },
   "outputs": [
    {
     "data": {
      "text/plain": [
       "{'summary': 'Drones could be used to carry out terrorist attacks, according to the New York Police Department.'}"
      ]
     },
     "execution_count": 13,
     "metadata": {},
     "output_type": "execute_result"
    }
   ],
   "source": [
    "data.json()"
   ]
  },
  {
   "cell_type": "code",
   "execution_count": null,
   "id": "422d2dd3-954c-4d97-bffe-f1b9dd05fd0c",
   "metadata": {},
   "outputs": [],
   "source": []
  }
 ],
 "metadata": {
  "kernelspec": {
   "display_name": "Python 3 (ipykernel)",
   "language": "python",
   "name": "python3.10"
  },
  "language_info": {
   "codemirror_mode": {
    "name": "ipython",
    "version": 3
   },
   "file_extension": ".py",
   "mimetype": "text/x-python",
   "name": "python",
   "nbconvert_exporter": "python",
   "pygments_lexer": "ipython3",
   "version": "3.9.10"
  },
  "widgets": {
   "application/vnd.jupyter.widget-state+json": {
    "state": {},
    "version_major": 2,
    "version_minor": 0
   }
  }
 },
 "nbformat": 4,
 "nbformat_minor": 5
}
